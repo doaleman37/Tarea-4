{
 "metadata": {
  "name": "Tarea 4-Homicidios"
 },
 "nbformat": 3,
 "nbformat_minor": 0,
 "worksheets": [
  {
   "cells": [
    {
     "cell_type": "code",
     "collapsed": false,
     "input": [
      "%pylab inline\n",
      "import csv\n",
      "reader = csv.reader(open('homicidios.1990.a.2013.csv','rU'))\n",
      "\n",
      "Matriz = []\n",
      "lineas = 0\n",
      "n_anios = 24\n",
      "for line in reader:\n",
      "    if not \"NA\" in line:\n",
      "        if not \"#DIV/0!\"in line:\n",
      "            Matriz.append(line)\n",
      "            lineas += 1\n",
      "            \n",
      "homicidios = np.empty((lineas,n_anios))\n",
      "\n",
      "for i in range(1,n_municipios):\n",
      "    j=0\n",
      "    line = Matriz[i]\n",
      "    while (4+3*j < len(line)):\n",
      "            homicidios[i,j]=line[5+3*j]\n",
      "            j +=1\n",
      "\n",
      "n_municipios = shape(homicidios)[0]\n",
      "promedio = zeros(n_anios)\n",
      "\n",
      "for i in range(n_anios):\n",
      "    promedio[i] = mean(homicidios[:,i])\n",
      "    \n",
      "covarianzas = zeros((n_anios,n_anios))\n",
      "\n",
      "for i in range(n_anios):\n",
      "    for j in range(n_anios):\n",
      "        covarianzas[i,j] =  sum((homicidios[:,i] - promedio[i]) * (homicidios[:,j] - promedio[j]))/(n_municipios-1.0)\n",
      "\n",
      "\n",
      "\n",
      "imshow(covarianzas,interpolation='nearest')"
     ],
     "language": "python",
     "metadata": {},
     "outputs": [
      {
       "output_type": "stream",
       "stream": "stdout",
       "text": [
        "\n",
        "Welcome to pylab, a matplotlib-based Python environment [backend: module://IPython.kernel.zmq.pylab.backend_inline].\n",
        "For more information, type 'help(pylab)'.\n"
       ]
      },
      {
       "output_type": "pyout",
       "prompt_number": 12,
       "text": [
        "<matplotlib.image.AxesImage at 0x2455990>"
       ]
      },
      {
       "output_type": "display_data",
       "png": "[encoded data removed]",
       "text": [
        "<matplotlib.figure.Figure at 0x21eb7d0>"
       ]
      }
     ],
     "prompt_number": 12
    },
    {
     "cell_type": "code",
     "collapsed": false,
     "input": [
      "eigenvalues = -sort(-linalg.eig(covarianzas)[0])\n",
      "traza= np.sum(eigenvalues)\n",
      "\n",
      "n = zeros(n_anios)\n",
      "n[0]=eigenvalues[0]/traza\n",
      "No_ValoresPropiosImportantes = 0\n",
      "for i in range(1,n_anios):\n",
      "    n[i] = n[i-1] + eigenvalues[i]/traza\n",
      "    \n",
      "    if (n[i]>0.9):\n",
      "        No_ValoresPropiosImportantes = i+1\n",
      "        break\n",
      "        \n",
      "print \"Los valores propios son:\"\n",
      "print eigenvalues\n",
      "print \"El n\u00famero de valores propios importantes es:\"        \n",
      "print No_ValoresPropiosImportantes\n",
      " \n",
      "eigen_importantes = zeros(No_ValoresPropiosImportantes)\n",
      "for i in range(No_ValoresPropiosImportantes):\n",
      "    eigen_importantes[i] = eigenvalues [i]\n",
      "    \n",
      "print \"Los valores propios importantes son:\"\n",
      "print eigen_importantes"
     ],
     "language": "python",
     "metadata": {},
     "outputs": [
      {
       "output_type": "stream",
       "stream": "stdout",
       "text": [
        "Los valores propios son:\n",
        "[ 48911.1816579   18895.20070294   8589.21391442   6685.97719542\n",
        "   5503.41355533   4875.60777425   4782.53045532   3337.03085767\n",
        "   2534.89719387   2047.20940404   1880.23731836   1303.73040819\n",
        "   1263.07033427   1154.22495564   1081.5400727    1025.88685356\n",
        "    834.47981716    778.3129077     706.74516736    652.64786579\n",
        "    617.17388215    454.5021117     368.6848131     353.75338527]\n",
        "El n\u00famero de valores propios importantes es:\n",
        "11\n",
        "Los valores propios importantes son:\n",
        "[ 48911.1816579   18895.20070294   8589.21391442   6685.97719542\n",
        "   5503.41355533   4875.60777425   4782.53045532   3337.03085767\n",
        "   2534.89719387   2047.20940404   1880.23731836]\n"
       ]
      }
     ],
     "prompt_number": 17
    },
    {
     "cell_type": "code",
     "collapsed": false,
     "input": [
      "eigenvectors = linalg.eig(covarianzas)[1]\n",
      "MatrizDeCoeficientes = zeros([n_municipios,n_anios])\n",
      "\n",
      "for i in range(n_municipios):\n",
      "   for j in range(n_anios):\n",
      "        MatrizDeCoeficientes[i][j]= sum(homicidios[i,:]*eigenvectors[:,j])\n",
      "\n",
      "print MatrizDeCoeficientes\n",
      "\n"
     ],
     "language": "python",
     "metadata": {},
     "outputs": [
      {
       "output_type": "stream",
       "stream": "stdout",
       "text": [
        "[[ -3.10732240e-39  -2.30231670e-39  -3.56993447e-39 ...,  -1.81635058e-38\n",
        "   -1.52458012e-38   1.21087372e-38]\n",
        " [ -6.85718414e+02  -4.16926264e+00   3.89373410e+01 ...,  -1.10169717e+01\n",
        "    4.71974538e+00  -4.08767650e+01]\n",
        " [ -3.66933695e+02  -1.22130541e+02   6.52350113e+01 ...,  -1.49092712e+01\n",
        "   -1.13578870e+01  -5.55143093e+00]\n",
        " ..., \n",
        " [ -1.13266306e+02   7.74892439e+00  -8.30459130e+01 ...,  -1.19488052e+01\n",
        "    1.56750543e+00   3.39390473e+01]\n",
        " [ -5.02855929e+01  -1.28117857e+01  -5.77090632e+01 ...,  -3.63529061e+00\n",
        "    3.74604633e+01  -7.28615183e+00]\n",
        " [ -3.77470673e+01  -3.63149513e+01  -4.76384311e+01 ...,   1.69305130e+01\n",
        "    2.97419236e+01   1.13758372e+00]]\n"
       ]
      }
     ],
     "prompt_number": 15
    },
    {
     "cell_type": "markdown",
     "metadata": {},
     "source": [
      "Para calcular el coeficiente asociado de un vector con respecto a un vector propio de la base conformada por los vectores propios normalizados de la matriz de covarianzas basta con hacer producto punto ya que la matriz de covarianzas es hermit\u00ecca y por lo tanto los vectores propios son ortogonales entre si."
     ]
    },
    {
     "cell_type": "code",
     "collapsed": false,
     "input": [
      "n_iteraciones=5\n",
      "centrosRojos = zeros((n_anios,n_iteraciones))\n",
      "centrosAzules = zeros((n_anios,n_iteraciones))\n",
      "centrosRojos[:,0]=20*random.random(n_anios)-10\n",
      "centrosAzules[:,0]=20*random.random(n_anios)-10\n",
      "distancia1 = zeros((n_municipios,n_iteraciones))\n",
      "distancia2 = zeros((n_municipios,n_iteraciones))\n",
      "colores = zeros((n_municipios,n_iteraciones))\n",
      "for j in range(n_iteraciones-1):\n",
      "   for i in range(n_municipios):\n",
      "        distancia1[i][j]=sqrt(sum((MatrizDeCoeficientes[i,:]-centrosRojos[:,j])**2))\n",
      "        distancia2[i][j]=sqrt(sum((MatrizDeCoeficientes[i,:]-centrosAzules[:,j])**2))\n",
      "        if(distancia1[i][j]<distancia2[i][j]):\n",
      "            colores[i][j]=0\n",
      "        else:\n",
      "            colores[i][j]=1\n",
      "            \n",
      "        puntos_azules=where(colores[i,:]==0)\n",
      "        coordenadasazules= MatrizDeCoeficientes[puntos_azules,:]\n",
      "        puntos_rojos=where(colores[i,:]==1)\n",
      "        coordenadasrojas= MatrizDeCoeficientes[puntos_rojos,:]\n",
      "        \n",
      " \n",
      "\n",
      "        for k in range(1,n_anios):\n",
      "            centrosAzules[k][j+1]= (sum(coordenadasazules[:,k]))/(shape(coordenadasazules)[0])\n",
      "            centrosRojos[k][j+1]= (sum(coordenadasrojas[:,k]))/(shape(coordenadasrojas)[0])\n",
      "\n",
      "            scatter(centrosAzules[:,j+1], c='b', s=90)\n",
      "            scatter(centrosrojos[:,j+1], c='r', s=90)\n",
      "            scatter(coordenadasazules, c='b')\n",
      "            scatter(coordenadasrojas, c='r')\n",
      "\n",
      "            plt.show()"
     ],
     "language": "python",
     "metadata": {},
     "outputs": [
      {
       "ename": "IndexError",
       "evalue": "invalid index",
       "output_type": "pyerr",
       "traceback": [
        "\u001b[1;31m---------------------------------------------------------------------------\u001b[0m\n\u001b[1;31mIndexError\u001b[0m                                Traceback (most recent call last)",
        "\u001b[1;32m<ipython-input-16-8cd84e624586>\u001b[0m in \u001b[0;36m<module>\u001b[1;34m()\u001b[0m\n\u001b[0;32m     25\u001b[0m         \u001b[1;32mfor\u001b[0m \u001b[0mk\u001b[0m \u001b[1;32min\u001b[0m \u001b[0mrange\u001b[0m\u001b[1;33m(\u001b[0m\u001b[1;36m1\u001b[0m\u001b[1;33m,\u001b[0m\u001b[0mn_anios\u001b[0m\u001b[1;33m)\u001b[0m\u001b[1;33m:\u001b[0m\u001b[1;33m\u001b[0m\u001b[0m\n\u001b[0;32m     26\u001b[0m             \u001b[0mcentrosAzules\u001b[0m\u001b[1;33m[\u001b[0m\u001b[0mk\u001b[0m\u001b[1;33m]\u001b[0m\u001b[1;33m[\u001b[0m\u001b[0mj\u001b[0m\u001b[1;33m+\u001b[0m\u001b[1;36m1\u001b[0m\u001b[1;33m]\u001b[0m\u001b[1;33m=\u001b[0m \u001b[1;33m(\u001b[0m\u001b[0msum\u001b[0m\u001b[1;33m(\u001b[0m\u001b[0mcoordenadasazules\u001b[0m\u001b[1;33m[\u001b[0m\u001b[1;33m:\u001b[0m\u001b[1;33m,\u001b[0m\u001b[0mk\u001b[0m\u001b[1;33m]\u001b[0m\u001b[1;33m)\u001b[0m\u001b[1;33m)\u001b[0m\u001b[1;33m/\u001b[0m\u001b[1;33m(\u001b[0m\u001b[0mshape\u001b[0m\u001b[1;33m(\u001b[0m\u001b[0mcoordenadasazules\u001b[0m\u001b[1;33m)\u001b[0m\u001b[1;33m[\u001b[0m\u001b[1;36m0\u001b[0m\u001b[1;33m]\u001b[0m\u001b[1;33m)\u001b[0m\u001b[1;33m\u001b[0m\u001b[0m\n\u001b[1;32m---> 27\u001b[1;33m             \u001b[0mcentrosRojos\u001b[0m\u001b[1;33m[\u001b[0m\u001b[0mk\u001b[0m\u001b[1;33m]\u001b[0m\u001b[1;33m[\u001b[0m\u001b[0mj\u001b[0m\u001b[1;33m+\u001b[0m\u001b[1;36m1\u001b[0m\u001b[1;33m]\u001b[0m\u001b[1;33m=\u001b[0m \u001b[1;33m(\u001b[0m\u001b[0msum\u001b[0m\u001b[1;33m(\u001b[0m\u001b[0mcoordenadasrojas\u001b[0m\u001b[1;33m[\u001b[0m\u001b[1;33m:\u001b[0m\u001b[1;33m,\u001b[0m\u001b[0mk\u001b[0m\u001b[1;33m]\u001b[0m\u001b[1;33m)\u001b[0m\u001b[1;33m)\u001b[0m\u001b[1;33m/\u001b[0m\u001b[1;33m(\u001b[0m\u001b[0mshape\u001b[0m\u001b[1;33m(\u001b[0m\u001b[0mcoordenadasrojas\u001b[0m\u001b[1;33m)\u001b[0m\u001b[1;33m[\u001b[0m\u001b[1;36m0\u001b[0m\u001b[1;33m]\u001b[0m\u001b[1;33m)\u001b[0m\u001b[1;33m\u001b[0m\u001b[0m\n\u001b[0m\u001b[0;32m     28\u001b[0m \u001b[1;33m\u001b[0m\u001b[0m\n\u001b[0;32m     29\u001b[0m             \u001b[0mscatter\u001b[0m\u001b[1;33m(\u001b[0m\u001b[0mcentrosAzules\u001b[0m\u001b[1;33m[\u001b[0m\u001b[1;33m:\u001b[0m\u001b[1;33m,\u001b[0m\u001b[0mj\u001b[0m\u001b[1;33m+\u001b[0m\u001b[1;36m1\u001b[0m\u001b[1;33m]\u001b[0m\u001b[1;33m,\u001b[0m \u001b[0mc\u001b[0m\u001b[1;33m=\u001b[0m\u001b[1;34m'b'\u001b[0m\u001b[1;33m,\u001b[0m \u001b[0ms\u001b[0m\u001b[1;33m=\u001b[0m\u001b[1;36m90\u001b[0m\u001b[1;33m)\u001b[0m\u001b[1;33m\u001b[0m\u001b[0m\n",
        "\u001b[1;31mIndexError\u001b[0m: invalid index"
       ]
      }
     ],
     "prompt_number": 16
    },
    {
     "cell_type": "code",
     "collapsed": false,
     "input": [],
     "language": "python",
     "metadata": {},
     "outputs": []
    }
   ],
   "metadata": {}
  }
 ]
}